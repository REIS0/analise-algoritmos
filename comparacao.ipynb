{
  "nbformat": 4,
  "nbformat_minor": 0,
  "metadata": {
    "kernelspec": {
      "display_name": "Python 3",
      "language": "python",
      "name": "python3"
    },
    "language_info": {
      "codemirror_mode": {
        "name": "ipython",
        "version": 3
      },
      "file_extension": ".py",
      "mimetype": "text/x-python",
      "name": "python",
      "nbconvert_exporter": "python",
      "pygments_lexer": "ipython3",
      "version": "3.8.5-final"
    },
    "colab": {
      "name": "comparacao.ipynb",
      "provenance": [],
      "collapsed_sections": [
        "nkviZGq-_D9k",
        "D9O-TROU_D9k",
        "B1QDVplF_D9k",
        "uhNfdHLh_D9k",
        "DrNABDCx_D9k",
        "MNvCu4kC_D9k",
        "uz7jamFs_D9k",
        "W0Q-FcW0_D9k",
        "6vZg6Adt_D9k",
        "Uv7fI2bk_D9k",
        "vrNiAN4YLOUc",
        "dEeibl1kM1sE"
      ]
    }
  },
  "cells": [
    {
      "cell_type": "markdown",
      "metadata": {
        "id": "MGiJBvxO_D9k"
      },
      "source": [
        "## Algoritmos"
      ]
    },
    {
      "cell_type": "markdown",
      "metadata": {
        "id": "nkviZGq-_D9k"
      },
      "source": [
        "### Heap Sort\n",
        "\n",
        "No HeapSort o caso médio terá aproximadamente a mesma complexidade que o pior caso, a função `heapify()` tem complexidade de O(log n) enquanto `heapsort()` tem O(n), assim tendo uma complexidade de O(n log n)."
      ]
    },
    {
      "cell_type": "code",
      "metadata": {
        "id": "lKi6TH9f_D9k"
      },
      "source": [
        "def heapsort(array):\n",
        "    n = len(array)\n",
        "    for i in range((n//2)-1, -1, -1):\n",
        "        heapify(array, n, i)\n",
        "    for i in range(n-1, 0, -1):\n",
        "        array[i], array[0] = array[0], array[i]\n",
        "        heapify(array, i, 0)\n",
        "\n",
        "def heapify(array, n, i):\n",
        "    largest = i\n",
        "    left = (2 * i) + 1\n",
        "    right = (2 * i) + 2\n",
        "    if left < n and array[i] < array[left]:\n",
        "        largest = left\n",
        "    if right < n and array[largest] < array[right]:\n",
        "        largest = right\n",
        "    if largest != i:\n",
        "        array[i], array[largest] = array[largest], array[i]\n",
        "        heapify(array, n, largest)"
      ],
      "execution_count": 100,
      "outputs": []
    },
    {
      "cell_type": "markdown",
      "metadata": {
        "id": "D9O-TROU_D9k"
      },
      "source": [
        "### Insetion Sort\n",
        "\n",
        "O melhor caso é o que um array já está completamente ordenado, tendo uma complexidade de O(n). Caso contrário a complexidade será cada vez mais lenta de acordo com o tamanho do array. O pior caso é o que o array está invertido."
      ]
    },
    {
      "cell_type": "code",
      "metadata": {
        "id": "biJ5hvif_D9k"
      },
      "source": [
        "def insertionsort(array):\n",
        "    for i in range(len(array)):\n",
        "        value = array[i]\n",
        "        j = i\n",
        "        while j > 0 and value < array[j-1]:\n",
        "            array[j] = array[j-1]\n",
        "            j -= 1\n",
        "        array[j] = value"
      ],
      "execution_count": 101,
      "outputs": []
    },
    {
      "cell_type": "markdown",
      "metadata": {
        "id": "B1QDVplF_D9k"
      },
      "source": [
        "### Tim Sort\n",
        "\n",
        "No TimSort temos um tempo de pior caso O(n log n), porém o algoritmo tira vantagem do conceito de ter sub-vetores já ordenados dentro do algoritmo o que traz uma grande otimização de tempo e na prática acaba sendo mais rápido que a maioria dos algoritmos."
      ]
    },
    {
      "cell_type": "code",
      "metadata": {
        "id": "m2M5u4S2_D9k"
      },
      "source": [
        "def timsort(array):\n",
        "    MIN_RUN = 32\n",
        "    lenght = len(array)\n",
        "    for i in range(0, lenght, MIN_RUN):\n",
        "        end = min((i+MIN_RUN)-1, lenght-1)\n",
        "        alt_insort(array, i, end)\n",
        "    current_size = MIN_RUN\n",
        "    while current_size < lenght:\n",
        "        for i in range(0, lenght, current_size*2):\n",
        "            mid = min(lenght-1, (i+current_size)-1)\n",
        "            end = min(lenght-1, mid+current_size)\n",
        "            merge(array, i, end, mid)\n",
        "        current_size *= 2\n",
        "    \n",
        "def merge(array, start, end, mid):\n",
        "    if mid==end:\n",
        "        return \n",
        "    first_part = array[start:mid+1]\n",
        "    second_part = array[mid+1:end+1]\n",
        "    len_first = (mid - start)+1\n",
        "    len_second = end - mid\n",
        "    ind_first = 0\n",
        "    ind_second = 0\n",
        "    ind = start\n",
        "    \n",
        "    while ind_first < len_first and ind_second < len_second:\n",
        "        if first_part[ind_first] < second_part[ind_second]:\n",
        "            array[ind] = first_part[ind_first]\n",
        "            ind_first += 1\n",
        "        else:\n",
        "            array[ind] = second_part[ind_second]\n",
        "            ind_second += 1\n",
        "        ind += 1\n",
        "    \n",
        "    while ind_first < len_first:\n",
        "        array[ind] = first_part[ind_first]\n",
        "        ind_first += 1\n",
        "        ind += 1\n",
        "    \n",
        "    while ind_second < len_second:\n",
        "        array[ind] = second_part[ind_second]\n",
        "        ind_second += 1\n",
        "        ind += 1\n",
        "        \n",
        "def alt_insort(array, f_part, s_part):\n",
        "    for i in range(f_part+1, s_part+1):\n",
        "        j = i\n",
        "        while j > f_part and array[j] < array[j-1]:\n",
        "            array[j], array[j-1] = array[j-1], array[j]\n",
        "            j -= 1"
      ],
      "execution_count": 102,
      "outputs": []
    },
    {
      "cell_type": "markdown",
      "metadata": {
        "id": "uhNfdHLh_D9k"
      },
      "source": [
        "### Gnome Sort\n",
        "\n",
        "No GnomeSort temos um pior caso de O(n²), porém isso irá variar de acordo com a entrada, caso o array já esteja parcialmente ordenado então teremos um tempo menos e caso já esteja ordenado teremos um tempo de O(n)."
      ]
    },
    {
      "cell_type": "code",
      "metadata": {
        "id": "YKcBsc6M_D9k"
      },
      "source": [
        "def gnomesort(array):\n",
        "    pos = 0\n",
        "    while pos < len(array):\n",
        "        if (pos == 0 or array[pos] >= array[pos-1]):\n",
        "            pos += 1\n",
        "        else:\n",
        "            array[pos], array[pos-1] = array[pos-1], array[pos]\n",
        "            pos -= 1"
      ],
      "execution_count": 103,
      "outputs": []
    },
    {
      "cell_type": "markdown",
      "metadata": {
        "id": "oQhDZ721_D9k"
      },
      "source": [
        "## Testes"
      ]
    },
    {
      "cell_type": "code",
      "metadata": {
        "id": "pnkjdZnx_D9k"
      },
      "source": [
        "# arq1000 = list(map(int, open(\"1000.txt\", \"r\").read().split()))\n",
        "# arq5000 = list(map(int,open(\"5000.txt\", \"r\").read().split()))\n",
        "# arq10000 = list(map(int,open(\"10000.txt\", \"r\").read().split()))\n",
        "# arq20000 = list(map(int,open(\"20000.txt\", \"r\").read().split()))\n",
        "# arq50000 = list(map(int,open(\"50000.txt\", \"r\").read().split()))\n",
        "# arq75000 = list(map(int,open(\"75000.txt\", \"r\").read().split()))\n",
        "# arq100000 = list(map(int,open(\"100000.txt\", \"r\").read().split()))"
      ],
      "execution_count": 104,
      "outputs": []
    },
    {
      "cell_type": "code",
      "metadata": {
        "id": "2giM-07f_D9k"
      },
      "source": [
        "data = {\n",
        "    'HeapSort': {'1000': None,'5000': None,'10000': None,'20000': None,'50000': None, '75000': None, '100000': None},\n",
        "    'InsertionSort': {'1000': None,'5000': None,'10000': None,'20000': None,'50000': None, '75000': None, '100000': None},\n",
        "    'TimSort': {'1000': None,'5000': None,'10000': None,'20000': None,'50000': None, '75000': None, '100000': None},\n",
        "    'GnomeSort': {'1000': None,'5000': None,'10000': None,'20000': None,'50000': None, '75000': None, '100000': None}\n",
        "    }"
      ],
      "execution_count": 105,
      "outputs": []
    },
    {
      "cell_type": "markdown",
      "metadata": {
        "id": "DrNABDCx_D9k"
      },
      "source": [
        "### 1000"
      ]
    },
    {
      "cell_type": "code",
      "metadata": {
        "id": "bgx7TW3r_D9k"
      },
      "source": [
        "import time\n",
        "# from heapsort import heapsort\n",
        "\n",
        "arq1000 = list(map(int, open(\"1000.txt\", \"r\").read().split()))\n",
        "array_size = len(arq1000)\n",
        "start = time.time()\n",
        "heapsort(arq1000)\n",
        "end = time.time()\n",
        "data['HeapSort']['1000'] = end - start"
      ],
      "execution_count": 106,
      "outputs": []
    },
    {
      "cell_type": "code",
      "metadata": {
        "id": "UOi7YpWB_D9k"
      },
      "source": [
        "import time\n",
        "# from insertiosort import insertionsort\n",
        "\n",
        "arq1000 = list(map(int, open(\"1000.txt\", \"r\").read().split()))\n",
        "start = time.time()\n",
        "insertionsort(arq1000)\n",
        "end = time.time()\n",
        "data['InsertionSort']['1000'] = end - start"
      ],
      "execution_count": 107,
      "outputs": []
    },
    {
      "cell_type": "code",
      "metadata": {
        "id": "GLdu0NBc_D9k"
      },
      "source": [
        "import time\n",
        "# from timsort import timsort\n",
        "\n",
        "arq1000 = list(map(int, open(\"1000.txt\", \"r\").read().split()))\n",
        "start = time.time()\n",
        "timsort(arq1000)\n",
        "end = time.time()\n",
        "data['TimSort']['1000'] = end - start"
      ],
      "execution_count": 108,
      "outputs": []
    },
    {
      "cell_type": "code",
      "metadata": {
        "id": "vdr8WGAn_D9k"
      },
      "source": [
        "import time\n",
        "# from gnomesort import gnomesort\n",
        "\n",
        "arq1000 = list(map(int, open(\"1000.txt\", \"r\").read().split()))\n",
        "start = time.time()\n",
        "gnomesort(arq1000)\n",
        "end = time.time()\n",
        "data['GnomeSort']['1000'] = end - start"
      ],
      "execution_count": 109,
      "outputs": []
    },
    {
      "cell_type": "markdown",
      "metadata": {
        "id": "MNvCu4kC_D9k"
      },
      "source": [
        "### 5000"
      ]
    },
    {
      "cell_type": "code",
      "metadata": {
        "id": "BMfeWRnv_D9k"
      },
      "source": [
        "import time\n",
        "# from heapsort import heapsort\n",
        "\n",
        "arq5000 = list(map(int, open(\"5000.txt\", \"r\").read().split()))\n",
        "array_size = len(arq5000)\n",
        "start = time.time()\n",
        "heapsort(arq5000)\n",
        "end = time.time()\n",
        "data['HeapSort']['5000'] = end - start"
      ],
      "execution_count": 110,
      "outputs": []
    },
    {
      "cell_type": "code",
      "metadata": {
        "id": "AL2Et1eM_D9k"
      },
      "source": [
        "import time\n",
        "# from insertiosort import insertionsort\n",
        "\n",
        "arq5000 = list(map(int, open(\"5000.txt\", \"r\").read().split()))\n",
        "start = time.time()\n",
        "insertionsort(arq5000)\n",
        "end = time.time()\n",
        "data['InsertionSort']['5000'] = end - start"
      ],
      "execution_count": 111,
      "outputs": []
    },
    {
      "cell_type": "code",
      "metadata": {
        "id": "gCllO8ZX_D9k"
      },
      "source": [
        "import time\n",
        "# from timsort import timsort\n",
        "\n",
        "arq5000 = list(map(int, open(\"5000.txt\", \"r\").read().split()))\n",
        "start = time.time()\n",
        "timsort(arq5000)\n",
        "end = time.time()\n",
        "data['TimSort']['5000'] = end - start"
      ],
      "execution_count": 112,
      "outputs": []
    },
    {
      "cell_type": "code",
      "metadata": {
        "id": "Y2hE1Hy9_D9k"
      },
      "source": [
        "import time\n",
        "# from gnomesort import gnomesort\n",
        "\n",
        "arq5000 = list(map(int, open(\"5000.txt\", \"r\").read().split()))\n",
        "start = time.time()\n",
        "gnomesort(arq5000)\n",
        "end = time.time()\n",
        "data['GnomeSort']['5000'] = end - start"
      ],
      "execution_count": 113,
      "outputs": []
    },
    {
      "cell_type": "markdown",
      "metadata": {
        "id": "uz7jamFs_D9k"
      },
      "source": [
        "### 10000"
      ]
    },
    {
      "cell_type": "code",
      "metadata": {
        "id": "x8dAzIz6_D9k"
      },
      "source": [
        "import time\n",
        "# from heapsort import heapsort\n",
        "\n",
        "arq10000 = list(map(int, open(\"10000.txt\", \"r\").read().split()))\n",
        "array_size = len(arq10000)\n",
        "start = time.time()\n",
        "heapsort(arq10000)\n",
        "end = time.time()\n",
        "data['HeapSort']['10000'] = end - start"
      ],
      "execution_count": 114,
      "outputs": []
    },
    {
      "cell_type": "code",
      "metadata": {
        "id": "rehTu-GU_D9k"
      },
      "source": [
        "import time\n",
        "# from insertiosort import insertionsort\n",
        "\n",
        "arq10000 = list(map(int, open(\"10000.txt\", \"r\").read().split()))\n",
        "start = time.time()\n",
        "insertionsort(arq10000)\n",
        "end = time.time()\n",
        "data['InsertionSort']['10000'] = end - start"
      ],
      "execution_count": 115,
      "outputs": []
    },
    {
      "cell_type": "code",
      "metadata": {
        "id": "TKQijpM__D9k"
      },
      "source": [
        "import time\n",
        "# from timsort import timsort\n",
        "\n",
        "arq10000 = list(map(int, open(\"10000.txt\", \"r\").read().split()))\n",
        "start = time.time()\n",
        "timsort(arq10000)\n",
        "end = time.time()\n",
        "data['TimSort']['10000'] = end - start"
      ],
      "execution_count": 116,
      "outputs": []
    },
    {
      "cell_type": "code",
      "metadata": {
        "id": "JPXd1mLD_D9k"
      },
      "source": [
        "import time\n",
        "# from gnomesort import gnomesort\n",
        "\n",
        "arq10000 = list(map(int, open(\"10000.txt\", \"r\").read().split()))\n",
        "start = time.time()\n",
        "gnomesort(arq10000)\n",
        "end = time.time()\n",
        "data['GnomeSort']['10000'] = end - start"
      ],
      "execution_count": 117,
      "outputs": []
    },
    {
      "cell_type": "markdown",
      "metadata": {
        "id": "W0Q-FcW0_D9k"
      },
      "source": [
        "### 20000"
      ]
    },
    {
      "cell_type": "code",
      "metadata": {
        "id": "-2Cxjz51_D9k"
      },
      "source": [
        "import time\n",
        "# from heapsort import heapsort\n",
        "\n",
        "arq20000 = list(map(int, open(\"20000.txt\", \"r\").read().split()))\n",
        "array_size = len(arq20000)\n",
        "start = time.time()\n",
        "heapsort(arq20000)\n",
        "end = time.time()\n",
        "data['HeapSort']['20000'] = end - start"
      ],
      "execution_count": 118,
      "outputs": []
    },
    {
      "cell_type": "code",
      "metadata": {
        "id": "ayirLiHN_D9k"
      },
      "source": [
        "import time\n",
        "# from insertiosort import insertionsort\n",
        "\n",
        "arq20000 = list(map(int, open(\"20000.txt\", \"r\").read().split()))\n",
        "start = time.time()\n",
        "insertionsort(arq20000)\n",
        "end = time.time()\n",
        "data['InsertionSort']['20000'] = end - start"
      ],
      "execution_count": 119,
      "outputs": []
    },
    {
      "cell_type": "code",
      "metadata": {
        "id": "2tj0Eyi7_D9k"
      },
      "source": [
        "import time\n",
        "# from timsort import timsort\n",
        "\n",
        "arq20000 = list(map(int, open(\"20000.txt\", \"r\").read().split()))\n",
        "start = time.time()\n",
        "timsort(arq20000)\n",
        "end = time.time()\n",
        "data['TimSort']['20000'] = end - start"
      ],
      "execution_count": 120,
      "outputs": []
    },
    {
      "cell_type": "code",
      "metadata": {
        "id": "cvX7p1KT_D9k"
      },
      "source": [
        "import time\n",
        "# from gnomesort import gnomesort\n",
        "\n",
        "arq20000 = list(map(int, open(\"20000.txt\", \"r\").read().split()))\n",
        "start = time.time()\n",
        "gnomesort(arq20000)\n",
        "end = time.time()\n",
        "data['GnomeSort']['20000'] = end - start"
      ],
      "execution_count": 121,
      "outputs": []
    },
    {
      "cell_type": "markdown",
      "metadata": {
        "id": "6vZg6Adt_D9k"
      },
      "source": [
        "### 50000"
      ]
    },
    {
      "cell_type": "code",
      "metadata": {
        "id": "MDu3C3uU_D9k"
      },
      "source": [
        "import time\n",
        "# from heapsort import heapsort\n",
        "\n",
        "arq50000 = list(map(int, open(\"50000.txt\", \"r\").read().split()))\n",
        "array_size = len(arq50000)\n",
        "start = time.time()\n",
        "heapsort(arq50000)\n",
        "end = time.time()\n",
        "data['HeapSort']['50000'] = end - start"
      ],
      "execution_count": 122,
      "outputs": []
    },
    {
      "cell_type": "code",
      "metadata": {
        "id": "5-aoJqEq_D9k"
      },
      "source": [
        "import time\n",
        "# from insertiosort import insertionsort\n",
        "\n",
        "arq50000 = list(map(int, open(\"50000.txt\", \"r\").read().split()))\n",
        "start = time.time()\n",
        "insertionsort(arq50000)\n",
        "end = time.time()\n",
        "data['InsertionSort']['50000'] = end - start"
      ],
      "execution_count": 123,
      "outputs": []
    },
    {
      "cell_type": "code",
      "metadata": {
        "id": "_fcFZPGY_D9k"
      },
      "source": [
        "import time\n",
        "# from timsort import timsort\n",
        "\n",
        "arq50000 = list(map(int, open(\"50000.txt\", \"r\").read().split()))\n",
        "start = time.time()\n",
        "timsort(arq50000)\n",
        "end = time.time()\n",
        "data['TimSort']['50000'] = end - start"
      ],
      "execution_count": 124,
      "outputs": []
    },
    {
      "cell_type": "code",
      "metadata": {
        "id": "YN02SZTb_D9k"
      },
      "source": [
        "import time\n",
        "# from gnomesort import gnomesort\n",
        "\n",
        "arq50000 = list(map(int, open(\"50000.txt\", \"r\").read().split()))\n",
        "start = time.time()\n",
        "gnomesort(arq50000)\n",
        "end = time.time()\n",
        "data['GnomeSort']['50000'] = end - start"
      ],
      "execution_count": 125,
      "outputs": []
    },
    {
      "cell_type": "markdown",
      "metadata": {
        "id": "Uv7fI2bk_D9k"
      },
      "source": [
        "### 75000"
      ]
    },
    {
      "cell_type": "code",
      "metadata": {
        "id": "fWzX5lJL_D9k"
      },
      "source": [
        "import time\n",
        "# from heapsort import heapsort\n",
        "\n",
        "arq75000 = list(map(int, open(\"75000.txt\", \"r\").read().split()))\n",
        "array_size = len(arq75000)\n",
        "start = time.time()\n",
        "heapsort(arq75000)\n",
        "end = time.time()\n",
        "data['HeapSort']['75000'] = end - start"
      ],
      "execution_count": 126,
      "outputs": []
    },
    {
      "cell_type": "code",
      "metadata": {
        "id": "fw2F0_Tm_D9k"
      },
      "source": [
        "import time\n",
        "# from insertiosort import insertionsort\n",
        "\n",
        "arq75000 = list(map(int, open(\"75000.txt\", \"r\").read().split()))\n",
        "start = time.time()\n",
        "insertionsort(arq75000)\n",
        "end = time.time()\n",
        "data['InsertionSort']['75000'] = end - start"
      ],
      "execution_count": 127,
      "outputs": []
    },
    {
      "cell_type": "code",
      "metadata": {
        "id": "g2MYJlBL_D9k"
      },
      "source": [
        "import time\n",
        "# from timsort import timsort\n",
        "\n",
        "arq75000 = list(map(int, open(\"75000.txt\", \"r\").read().split()))\n",
        "start = time.time()\n",
        "timsort(arq75000)\n",
        "end = time.time()\n",
        "data['TimSort']['75000'] = end - start"
      ],
      "execution_count": 128,
      "outputs": []
    },
    {
      "cell_type": "code",
      "metadata": {
        "id": "fgvuhx94_D9k"
      },
      "source": [
        "import time\n",
        "# from gnomesort import gnomesort\n",
        "\n",
        "arq75000 = list(map(int, open(\"75000.txt\", \"r\").read().split()))\n",
        "start = time.time()\n",
        "gnomesort(arq75000)\n",
        "end = time.time()\n",
        "data['GnomeSort']['75000'] = end - start"
      ],
      "execution_count": 129,
      "outputs": []
    },
    {
      "cell_type": "markdown",
      "metadata": {
        "id": "KWSi40ed_D9k"
      },
      "source": [
        "### 100000"
      ]
    },
    {
      "cell_type": "code",
      "metadata": {
        "id": "fRTix1aT_D9k"
      },
      "source": [
        "import time\n",
        "# from heapsort import heapsort\n",
        "\n",
        "arq100000 = list(map(int, open(\"100000.txt\", \"r\").read().split()))\n",
        "array_size = len(arq100000)\n",
        "start = time.time()\n",
        "heapsort(arq100000)\n",
        "end = time.time()\n",
        "data['HeapSort']['100000'] = end - start"
      ],
      "execution_count": 130,
      "outputs": []
    },
    {
      "cell_type": "code",
      "metadata": {
        "id": "aN4V6sPw_D9k"
      },
      "source": [
        "import time\n",
        "# from insertiosort import insertionsort\n",
        "\n",
        "arq100000 = list(map(int, open(\"100000.txt\", \"r\").read().split()))\n",
        "start = time.time()\n",
        "insertionsort(arq100000)\n",
        "end = time.time()\n",
        "data['InsertionSort']['100000'] = end - start"
      ],
      "execution_count": 131,
      "outputs": []
    },
    {
      "cell_type": "code",
      "metadata": {
        "id": "zOvVIWIX_D9k"
      },
      "source": [
        "import time\n",
        "# from timsort import timsort\n",
        "\n",
        "arq100000 = list(map(int, open(\"100000.txt\", \"r\").read().split()))\n",
        "start = time.time()\n",
        "timsort(arq100000)\n",
        "end = time.time()\n",
        "data['TimSort']['100000'] = end - start"
      ],
      "execution_count": 132,
      "outputs": []
    },
    {
      "cell_type": "code",
      "metadata": {
        "id": "WH0acJtt_D9k"
      },
      "source": [
        "import time\n",
        "# from gnomesort import gnomesort\n",
        "\n",
        "arq100000 = list(map(int, open(\"100000.txt\", \"r\").read().split()))\n",
        "start = time.time()\n",
        "gnomesort(arq100000)\n",
        "end = time.time()\n",
        "data['GnomeSort']['100000'] = end - start"
      ],
      "execution_count": 133,
      "outputs": []
    },
    {
      "cell_type": "markdown",
      "metadata": {
        "id": "2Ox3HKZk_D9k"
      },
      "source": [
        "## Comparações"
      ]
    },
    {
      "cell_type": "code",
      "metadata": {
        "scrolled": true,
        "colab": {
          "base_uri": "https://localhost:8080/",
          "height": 269
        },
        "id": "h_qO4Qoi_D9k",
        "outputId": "9aad1fc8-2418-492b-fa10-e09aac449947"
      },
      "source": [
        "import pandas as pd\n",
        "\n",
        "datapd = pd.DataFrame(data)\n",
        "datapd"
      ],
      "execution_count": 134,
      "outputs": [
        {
          "output_type": "execute_result",
          "data": {
            "text/html": [
              "<div>\n",
              "<style scoped>\n",
              "    .dataframe tbody tr th:only-of-type {\n",
              "        vertical-align: middle;\n",
              "    }\n",
              "\n",
              "    .dataframe tbody tr th {\n",
              "        vertical-align: top;\n",
              "    }\n",
              "\n",
              "    .dataframe thead th {\n",
              "        text-align: right;\n",
              "    }\n",
              "</style>\n",
              "<table border=\"1\" class=\"dataframe\">\n",
              "  <thead>\n",
              "    <tr style=\"text-align: right;\">\n",
              "      <th></th>\n",
              "      <th>HeapSort</th>\n",
              "      <th>InsertionSort</th>\n",
              "      <th>TimSort</th>\n",
              "      <th>GnomeSort</th>\n",
              "    </tr>\n",
              "  </thead>\n",
              "  <tbody>\n",
              "    <tr>\n",
              "      <th>1000</th>\n",
              "      <td>0.007580</td>\n",
              "      <td>0.060229</td>\n",
              "      <td>0.005435</td>\n",
              "      <td>0.137401</td>\n",
              "    </tr>\n",
              "    <tr>\n",
              "      <th>5000</th>\n",
              "      <td>0.029235</td>\n",
              "      <td>1.137044</td>\n",
              "      <td>0.025082</td>\n",
              "      <td>3.270600</td>\n",
              "    </tr>\n",
              "    <tr>\n",
              "      <th>10000</th>\n",
              "      <td>0.062854</td>\n",
              "      <td>4.429646</td>\n",
              "      <td>0.039360</td>\n",
              "      <td>12.985212</td>\n",
              "    </tr>\n",
              "    <tr>\n",
              "      <th>20000</th>\n",
              "      <td>0.129143</td>\n",
              "      <td>17.876635</td>\n",
              "      <td>0.086205</td>\n",
              "      <td>52.524848</td>\n",
              "    </tr>\n",
              "    <tr>\n",
              "      <th>50000</th>\n",
              "      <td>0.365553</td>\n",
              "      <td>116.685898</td>\n",
              "      <td>0.227420</td>\n",
              "      <td>341.151480</td>\n",
              "    </tr>\n",
              "    <tr>\n",
              "      <th>75000</th>\n",
              "      <td>0.577449</td>\n",
              "      <td>272.466663</td>\n",
              "      <td>0.352443</td>\n",
              "      <td>787.697319</td>\n",
              "    </tr>\n",
              "    <tr>\n",
              "      <th>100000</th>\n",
              "      <td>0.770815</td>\n",
              "      <td>488.803511</td>\n",
              "      <td>0.473858</td>\n",
              "      <td>1400.497933</td>\n",
              "    </tr>\n",
              "  </tbody>\n",
              "</table>\n",
              "</div>"
            ],
            "text/plain": [
              "        HeapSort  InsertionSort   TimSort    GnomeSort\n",
              "1000    0.007580       0.060229  0.005435     0.137401\n",
              "5000    0.029235       1.137044  0.025082     3.270600\n",
              "10000   0.062854       4.429646  0.039360    12.985212\n",
              "20000   0.129143      17.876635  0.086205    52.524848\n",
              "50000   0.365553     116.685898  0.227420   341.151480\n",
              "75000   0.577449     272.466663  0.352443   787.697319\n",
              "100000  0.770815     488.803511  0.473858  1400.497933"
            ]
          },
          "metadata": {
            "tags": []
          },
          "execution_count": 134
        }
      ]
    },
    {
      "cell_type": "code",
      "metadata": {
        "colab": {
          "base_uri": "https://localhost:8080/",
          "height": 352
        },
        "id": "YKSxeHmz_D9k",
        "outputId": "0d27b4de-195e-464e-9e97-86a9c7a1e65c"
      },
      "source": [
        "import matplotlib.pyplot as plt\n",
        "import seaborn as sns\n",
        "\n",
        "fig, ax = plt.subplots(figsize=[10, 5])\n",
        "ax.set_xlabel('Quantidade da entrada')\n",
        "ax.set_ylabel('Tempo')\n",
        "sns.lineplot(data=datapd['HeapSort'])"
      ],
      "execution_count": 135,
      "outputs": [
        {
          "output_type": "execute_result",
          "data": {
            "text/plain": [
              "<matplotlib.axes._subplots.AxesSubplot at 0x7f2053548b70>"
            ]
          },
          "metadata": {
            "tags": []
          },
          "execution_count": 135
        },
        {
          "output_type": "display_data",
          "data": {
            "image/png": "[encoded data removed]",
            "text/plain": [
              "<Figure size 720x360 with 1 Axes>"
            ]
          },
          "metadata": {
            "tags": [],
            "needs_background": "light"
          }
        }
      ]
    },
    {
      "cell_type": "markdown",
      "metadata": {
        "id": "LfOsAOIS7gzU"
      },
      "source": [
        "Podemos ver um crescimento grande junto com as entradas, sendo um crescimento linear com uma alta angulação após 50000.\n"
      ]
    },
    {
      "cell_type": "code",
      "metadata": {
        "scrolled": true,
        "colab": {
          "base_uri": "https://localhost:8080/",
          "height": 351
        },
        "id": "Vv8iOtiT_D9k",
        "outputId": "c25d3b07-0d81-431b-facd-3bdcd9a5f7b4"
      },
      "source": [
        "import matplotlib.pyplot as plt\n",
        "import seaborn as sns\n",
        "\n",
        "fig, ax = plt.subplots(figsize=[10, 5])\n",
        "ax.set_xlabel('Quantidade da entrada')\n",
        "ax.set_ylabel('Tempo')\n",
        "sns.lineplot(data=datapd['InsertionSort'])"
      ],
      "execution_count": 136,
      "outputs": [
        {
          "output_type": "execute_result",
          "data": {
            "text/plain": [
              "<matplotlib.axes._subplots.AxesSubplot at 0x7f206a469278>"
            ]
          },
          "metadata": {
            "tags": []
          },
          "execution_count": 136
        },
        {
          "output_type": "display_data",
          "data": {
            "image/png": "[encoded data removed]",
            "text/plain": [
              "<Figure size 720x360 with 1 Axes>"
            ]
          },
          "metadata": {
            "tags": [],
            "needs_background": "light"
          }
        }
      ]
    },
    {
      "cell_type": "markdown",
      "metadata": {
        "id": "GIL1GWTQW1Gs"
      },
      "source": [
        "A partir de 20000 entradas o tempo de execução do algoritmo tem um aumento muito drástico."
      ]
    },
    {
      "cell_type": "code",
      "metadata": {
        "colab": {
          "base_uri": "https://localhost:8080/",
          "height": 351
        },
        "id": "8qwtlANf_D9k",
        "outputId": "d1c45007-e591-4fc0-9d11-c9c419958547"
      },
      "source": [
        "import matplotlib.pyplot as plt\n",
        "import seaborn as sns\n",
        "\n",
        "fig, ax = plt.subplots(figsize=[10, 5])\n",
        "ax.set_xlabel('Quantidade da entrada')\n",
        "ax.set_ylabel('Tempo')\n",
        "sns.lineplot(data=datapd['TimSort'])"
      ],
      "execution_count": 137,
      "outputs": [
        {
          "output_type": "execute_result",
          "data": {
            "text/plain": [
              "<matplotlib.axes._subplots.AxesSubplot at 0x7f206ae42cc0>"
            ]
          },
          "metadata": {
            "tags": []
          },
          "execution_count": 137
        },
        {
          "output_type": "display_data",
          "data": {
            "image/png": "[encoded data removed]",
            "text/plain": [
              "<Figure size 720x360 with 1 Axes>"
            ]
          },
          "metadata": {
            "tags": [],
            "needs_background": "light"
          }
        }
      ]
    },
    {
      "cell_type": "markdown",
      "metadata": {
        "id": "vvF3ksLyXlB4"
      },
      "source": [
        "Até 20000 entradas o tempo aumento como uma curva, após 20000 o tempo de execução aumenta de forma linear."
      ]
    },
    {
      "cell_type": "code",
      "metadata": {
        "colab": {
          "base_uri": "https://localhost:8080/",
          "height": 351
        },
        "id": "EeJykFq6_D9k",
        "outputId": "8806d1d7-a299-481e-cca2-fa89bb6a0d1f"
      },
      "source": [
        "import matplotlib.pyplot as plt\n",
        "import seaborn as sns\n",
        "\n",
        "fig, ax = plt.subplots(figsize=[10, 5])\n",
        "ax.set_xlabel('Quantidade da entrada')\n",
        "ax.set_ylabel('Tempo')\n",
        "sns.lineplot(data=datapd['GnomeSort'])"
      ],
      "execution_count": 138,
      "outputs": [
        {
          "output_type": "execute_result",
          "data": {
            "text/plain": [
              "<matplotlib.axes._subplots.AxesSubplot at 0x7f206a954da0>"
            ]
          },
          "metadata": {
            "tags": []
          },
          "execution_count": 138
        },
        {
          "output_type": "display_data",
          "data": {
            "image/png": "[encoded data removed]",
            "text/plain": [
              "<Figure size 720x360 with 1 Axes>"
            ]
          },
          "metadata": {
            "tags": [],
            "needs_background": "light"
          }
        }
      ]
    },
    {
      "cell_type": "markdown",
      "metadata": {
        "id": "WjqX5F8XYeyw"
      },
      "source": [
        "Existe um certo padrao conforme o numero de entradas aumenta, tendo \"cotovelos\" em cada entrada."
      ]
    },
    {
      "cell_type": "code",
      "metadata": {
        "colab": {
          "base_uri": "https://localhost:8080/",
          "height": 351
        },
        "id": "V_3zM8Gw_D9k",
        "outputId": "04894a78-7ee0-4566-90ec-83dda13b0a51"
      },
      "source": [
        "import seaborn as sns\n",
        "\n",
        "fig, ax = plt.subplots(figsize=[10, 5])\n",
        "ax.set_xlabel('Quantidade da entrada')\n",
        "ax.set_ylabel('Tempo')\n",
        "sns.lineplot(data=datapd)"
      ],
      "execution_count": 139,
      "outputs": [
        {
          "output_type": "execute_result",
          "data": {
            "text/plain": [
              "<matplotlib.axes._subplots.AxesSubplot at 0x7f206aca17b8>"
            ]
          },
          "metadata": {
            "tags": []
          },
          "execution_count": 139
        },
        {
          "output_type": "display_data",
          "data": {
            "image/png": "[encoded data removed]",
            "text/plain": [
              "<Figure size 720x360 with 1 Axes>"
            ]
          },
          "metadata": {
            "tags": [],
            "needs_background": "light"
          }
        }
      ]
    },
    {
      "cell_type": "markdown",
      "metadata": {
        "id": "QE0-ou6WY6bg"
      },
      "source": [
        "GnomeSort sendo o pior algoritmo em tempo de execução, InsertionSort apesar de ter um tempo de execução melhor que GnomeSort, ainda é mais lento que HeapSort e TimSort."
      ]
    },
    {
      "cell_type": "code",
      "metadata": {
        "colab": {
          "base_uri": "https://localhost:8080/",
          "height": 352
        },
        "id": "7fuvjUUH_D9k",
        "outputId": "e0cb2180-34e7-45ee-c0fb-148ce8bb8c2b"
      },
      "source": [
        "import seaborn as sns\n",
        "\n",
        "fig, ax = plt.subplots(figsize=[10, 5])\n",
        "ax.set_xlabel('Quantidade da entrada')\n",
        "ax.set_ylabel('Tempo')\n",
        "sns.lineplot(data=datapd.loc[:,['TimSort', 'HeapSort']])"
      ],
      "execution_count": 140,
      "outputs": [
        {
          "output_type": "execute_result",
          "data": {
            "text/plain": [
              "<matplotlib.axes._subplots.AxesSubplot at 0x7f206ab60978>"
            ]
          },
          "metadata": {
            "tags": []
          },
          "execution_count": 140
        },
        {
          "output_type": "display_data",
          "data": {
            "image/png": "[encoded data removed]",
            "text/plain": [
              "<Figure size 720x360 with 1 Axes>"
            ]
          },
          "metadata": {
            "tags": [],
            "needs_background": "light"
          }
        }
      ]
    },
    {
      "cell_type": "markdown",
      "metadata": {
        "id": "62RFBHPoaaQU"
      },
      "source": [
        "Aqui vemos que quanto maior a entrada mais eficiente é o TimSort em comparação com outros algoritmos, em parte graças ao crescimento linear do tempo de execução."
      ]
    },
    {
      "cell_type": "markdown",
      "metadata": {
        "id": "53t-TufGKRxc"
      },
      "source": [
        "## Melhor, pior e médio caso"
      ]
    },
    {
      "cell_type": "code",
      "metadata": {
        "id": "TsflNwOvKW7I"
      },
      "source": [
        "data_casos = {\n",
        "    \"HeapSort\": {\"Melhor\": None, \"Medio\": None, \"Pior\": None},\n",
        "    \"InsertionSort\": {\"Melhor\": None, \"Medio\": None, \"Pior\": None},\n",
        "    \"TimSort\": {\"Melhor\": None, \"Medio\": None, \"Pior\": None},\n",
        "    \"GnomeSort\": {\"Melhor\": None, \"Medio\": None, \"Pior\": None}\n",
        "}"
      ],
      "execution_count": 141,
      "outputs": []
    },
    {
      "cell_type": "code",
      "metadata": {
        "id": "HzQCRpjYK3hE"
      },
      "source": [
        "# melhor = list(map(int,open(\"melhor.txt\", \"r\").read().split()))\n",
        "# pior = list(map(int,open(\"pior.txt\", \"r\").read().split()))\n",
        "# medio = list(map(int,open(\"medio.txt\", \"r\").read().split()))"
      ],
      "execution_count": 142,
      "outputs": []
    },
    {
      "cell_type": "markdown",
      "metadata": {
        "id": "vrNiAN4YLOUc"
      },
      "source": [
        "### Melhor caso"
      ]
    },
    {
      "cell_type": "code",
      "metadata": {
        "id": "QL8JyyK-LI8s"
      },
      "source": [
        "from time import time\n",
        "\n",
        "melhor = list(map(int,open(\"melhor.txt\", \"r\").read().split()))\n",
        "start = time()\n",
        "heapsort(melhor)\n",
        "end = time()\n",
        "data_casos['HeapSort']['Melhor'] = end - start"
      ],
      "execution_count": 143,
      "outputs": []
    },
    {
      "cell_type": "code",
      "metadata": {
        "id": "_XhoUtQyLl7Y"
      },
      "source": [
        "from time import time\n",
        "\n",
        "melhor = list(map(int,open(\"melhor.txt\", \"r\").read().split()))\n",
        "start = time()\n",
        "insertionsort(melhor)\n",
        "end = time()\n",
        "data_casos['InsertionSort']['Melhor'] = end - start"
      ],
      "execution_count": 144,
      "outputs": []
    },
    {
      "cell_type": "code",
      "metadata": {
        "id": "EvLLFKtELryY"
      },
      "source": [
        "from time import time\n",
        "\n",
        "melhor = list(map(int,open(\"melhor.txt\", \"r\").read().split()))\n",
        "start = time()\n",
        "timsort(melhor)\n",
        "end = time()\n",
        "data_casos['TimSort']['Melhor'] = end - start"
      ],
      "execution_count": 145,
      "outputs": []
    },
    {
      "cell_type": "code",
      "metadata": {
        "id": "Ws44lqpkLxVE"
      },
      "source": [
        "from time import time\n",
        "\n",
        "melhor = list(map(int,open(\"melhor.txt\", \"r\").read().split()))\n",
        "start = time()\n",
        "gnomesort(melhor)\n",
        "end = time()\n",
        "data_casos['GnomeSort']['Melhor'] = end - start"
      ],
      "execution_count": 146,
      "outputs": []
    },
    {
      "cell_type": "markdown",
      "metadata": {
        "id": "dEeibl1kM1sE"
      },
      "source": [
        "### Pior caso"
      ]
    },
    {
      "cell_type": "code",
      "metadata": {
        "id": "v0fXRNVKM3WU"
      },
      "source": [
        "from time import time\n",
        "\n",
        "pior = list(map(int,open(\"pior.txt\", \"r\").read().split()))\n",
        "start = time()\n",
        "heapsort(pior)\n",
        "end = time()\n",
        "data_casos['HeapSort']['Pior'] = end - start"
      ],
      "execution_count": 147,
      "outputs": []
    },
    {
      "cell_type": "code",
      "metadata": {
        "id": "-ee_MvuVM9mU"
      },
      "source": [
        "from time import time\n",
        "\n",
        "pior = list(map(int,open(\"pior.txt\", \"r\").read().split()))\n",
        "start = time()\n",
        "insertionsort(pior)\n",
        "end = time()\n",
        "data_casos['InsertionSort']['Pior'] = end - start"
      ],
      "execution_count": 148,
      "outputs": []
    },
    {
      "cell_type": "code",
      "metadata": {
        "id": "xCurh74FNBEM"
      },
      "source": [
        "from time import time\n",
        "\n",
        "pior = list(map(int,open(\"pior.txt\", \"r\").read().split()))\n",
        "start = time()\n",
        "timsort(pior)\n",
        "end = time()\n",
        "data_casos['TimSort']['Pior'] = end - start"
      ],
      "execution_count": 149,
      "outputs": []
    },
    {
      "cell_type": "code",
      "metadata": {
        "id": "qUcOb6JSNE_w"
      },
      "source": [
        "from time import time\n",
        "\n",
        "pior = list(map(int,open(\"pior.txt\", \"r\").read().split()))\n",
        "start = time()\n",
        "gnomesort(pior)\n",
        "end = time()\n",
        "data_casos['GnomeSort']['Pior'] = end - start"
      ],
      "execution_count": 150,
      "outputs": []
    },
    {
      "cell_type": "markdown",
      "metadata": {
        "id": "yuR96vGXNL7g"
      },
      "source": [
        "### Médio caso"
      ]
    },
    {
      "cell_type": "code",
      "metadata": {
        "id": "iBU-xthRNRU0"
      },
      "source": [
        "from time import time\n",
        "\n",
        "medio = list(map(int,open(\"medio.txt\", \"r\").read().split()))\n",
        "start = time()\n",
        "heapsort(medio)\n",
        "end = time()\n",
        "data_casos['HeapSort']['Medio'] = end - start"
      ],
      "execution_count": 151,
      "outputs": []
    },
    {
      "cell_type": "code",
      "metadata": {
        "id": "KuKz8cvnNWsk"
      },
      "source": [
        "from time import time\n",
        "\n",
        "medio = list(map(int,open(\"medio.txt\", \"r\").read().split()))\n",
        "start = time()\n",
        "insertionsort(medio)\n",
        "end = time()\n",
        "data_casos['InsertionSort']['Medio'] = end - start"
      ],
      "execution_count": 152,
      "outputs": []
    },
    {
      "cell_type": "code",
      "metadata": {
        "id": "0saggCHTNg5s"
      },
      "source": [
        "from time import time\n",
        "\n",
        "medio = list(map(int,open(\"medio.txt\", \"r\").read().split()))\n",
        "start = time()\n",
        "timsort(medio)\n",
        "end = time()\n",
        "data_casos['TimSort']['Medio'] = end - start"
      ],
      "execution_count": 153,
      "outputs": []
    },
    {
      "cell_type": "code",
      "metadata": {
        "id": "jWv4HssmNmRc"
      },
      "source": [
        "from time import time\n",
        "\n",
        "medio = list(map(int,open(\"medio.txt\", \"r\").read().split()))\n",
        "start = time()\n",
        "gnomesort(medio)\n",
        "end = time()\n",
        "data_casos['GnomeSort']['Medio'] = end - start"
      ],
      "execution_count": 154,
      "outputs": []
    },
    {
      "cell_type": "markdown",
      "metadata": {
        "id": "IBAtQdSwP3Hw"
      },
      "source": [
        "### Comparação"
      ]
    },
    {
      "cell_type": "code",
      "metadata": {
        "colab": {
          "base_uri": "https://localhost:8080/",
          "height": 143
        },
        "id": "HbN4gNsHP2cA",
        "outputId": "11e7f2f1-9d16-487a-9469-636c4946c747"
      },
      "source": [
        "import pandas as pd\n",
        "\n",
        "data = pd.DataFrame(data_casos)\n",
        "data"
      ],
      "execution_count": 155,
      "outputs": [
        {
          "output_type": "execute_result",
          "data": {
            "text/html": [
              "<div>\n",
              "<style scoped>\n",
              "    .dataframe tbody tr th:only-of-type {\n",
              "        vertical-align: middle;\n",
              "    }\n",
              "\n",
              "    .dataframe tbody tr th {\n",
              "        vertical-align: top;\n",
              "    }\n",
              "\n",
              "    .dataframe thead th {\n",
              "        text-align: right;\n",
              "    }\n",
              "</style>\n",
              "<table border=\"1\" class=\"dataframe\">\n",
              "  <thead>\n",
              "    <tr style=\"text-align: right;\">\n",
              "      <th></th>\n",
              "      <th>HeapSort</th>\n",
              "      <th>InsertionSort</th>\n",
              "      <th>TimSort</th>\n",
              "      <th>GnomeSort</th>\n",
              "    </tr>\n",
              "  </thead>\n",
              "  <tbody>\n",
              "    <tr>\n",
              "      <th>Melhor</th>\n",
              "      <td>0.361903</td>\n",
              "      <td>0.007964</td>\n",
              "      <td>0.103692</td>\n",
              "      <td>0.016691</td>\n",
              "    </tr>\n",
              "    <tr>\n",
              "      <th>Medio</th>\n",
              "      <td>0.361327</td>\n",
              "      <td>27.481223</td>\n",
              "      <td>0.158612</td>\n",
              "      <td>81.115587</td>\n",
              "    </tr>\n",
              "    <tr>\n",
              "      <th>Pior</th>\n",
              "      <td>0.313272</td>\n",
              "      <td>216.686522</td>\n",
              "      <td>0.285528</td>\n",
              "      <td>639.313112</td>\n",
              "    </tr>\n",
              "  </tbody>\n",
              "</table>\n",
              "</div>"
            ],
            "text/plain": [
              "        HeapSort  InsertionSort   TimSort   GnomeSort\n",
              "Melhor  0.361903       0.007964  0.103692    0.016691\n",
              "Medio   0.361327      27.481223  0.158612   81.115587\n",
              "Pior    0.313272     216.686522  0.285528  639.313112"
            ]
          },
          "metadata": {
            "tags": []
          },
          "execution_count": 155
        }
      ]
    },
    {
      "cell_type": "markdown",
      "metadata": {
        "id": "FlFTRsIbb0VM"
      },
      "source": [
        "InsertionSort tem disparadamente o melhor tempo para uma entrada já ordenada, porém nos outros casos só não é mais lento que o GnomeSort."
      ]
    },
    {
      "cell_type": "code",
      "metadata": {
        "colab": {
          "base_uri": "https://localhost:8080/",
          "height": 351
        },
        "id": "x5-GQAvERvms",
        "outputId": "8c88f3e3-aa07-46b4-b0bb-8221a85c1758"
      },
      "source": [
        "import matplotlib.pyplot as plt\n",
        "import seaborn as sns\n",
        "\n",
        "fig, ax = plt.subplots(figsize=[10, 5])\n",
        "ax.set_xlabel('Caso')\n",
        "ax.set_ylabel('Tempo')\n",
        "sns.lineplot(data=data)"
      ],
      "execution_count": 156,
      "outputs": [
        {
          "output_type": "execute_result",
          "data": {
            "text/plain": [
              "<matplotlib.axes._subplots.AxesSubplot at 0x7f2057a27710>"
            ]
          },
          "metadata": {
            "tags": []
          },
          "execution_count": 156
        },
        {
          "output_type": "display_data",
          "data": {
            "image/png": "[encoded data removed]",
            "text/plain": [
              "<Figure size 720x360 with 1 Axes>"
            ]
          },
          "metadata": {
            "tags": [],
            "needs_background": "light"
          }
        }
      ]
    },
    {
      "cell_type": "markdown",
      "metadata": {
        "id": "tggZi4DmbYeY"
      },
      "source": [
        "Assim como nos outros testes o GnomeSort e InsertionSort se mostram piores de acordo com o quão ordenada está a entrada."
      ]
    },
    {
      "cell_type": "code",
      "metadata": {
        "colab": {
          "base_uri": "https://localhost:8080/",
          "height": 351
        },
        "id": "xXohhlaHU9UU",
        "outputId": "24c093da-716c-4f53-ea75-b72226d4cf23"
      },
      "source": [
        "import matplotlib.pyplot as plt\n",
        "import seaborn as sns\n",
        "\n",
        "fig, ax = plt.subplots(figsize=[10, 5])\n",
        "ax.set_xlabel('Caso')\n",
        "ax.set_ylabel('Tempo')\n",
        "sns.lineplot(data=data.loc[:, ['HeapSort','TimSort']])"
      ],
      "execution_count": 157,
      "outputs": [
        {
          "output_type": "execute_result",
          "data": {
            "text/plain": [
              "<matplotlib.axes._subplots.AxesSubplot at 0x7f2053088b38>"
            ]
          },
          "metadata": {
            "tags": []
          },
          "execution_count": 157
        },
        {
          "output_type": "display_data",
          "data": {
            "image/png": "[encoded data removed]",
            "text/plain": [
              "<Figure size 720x360 with 1 Axes>"
            ]
          },
          "metadata": {
            "tags": [],
            "needs_background": "light"
          }
        }
      ]
    }
  ]
}